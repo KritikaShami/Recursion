{
  "nbformat": 4,
  "nbformat_minor": 0,
  "metadata": {
    "colab": {
      "name": "MinStepsTo1(DP).ipynb",
      "provenance": []
    },
    "kernelspec": {
      "name": "python3",
      "display_name": "Python 3"
    },
    "language_info": {
      "name": "python"
    }
  },
  "cells": [
    {
      "cell_type": "markdown",
      "source": [
        "**Input= 7** <br>\n",
        "**Output= 3** <br><br>\n",
        "**Explanation...** <br>\n",
        "For n = 7\n",
        "Step 1 :  n = 7 ­- 1 = 6 <br>\n",
        "Step 2 : n = 6  / 3 = 2 <br>\n",
        "Step 3 : n = 2 / 2 = 1"
      ],
      "metadata": {
        "id": "qwFk51cYKVfu"
      }
    },
    {
      "cell_type": "markdown",
      "source": [
        "# <center><b>Dynamic Programming (DP) Solution<center>"
      ],
      "metadata": {
        "id": "crvxQoKePRMd"
      }
    },
    {
      "cell_type": "code",
      "execution_count": 9,
      "metadata": {
        "id": "IpWQ2WmNKUZD"
      },
      "outputs": [],
      "source": [
        "import sys\n",
        "def minStepsTo1(n,dp):\n",
        "  if n == 1:\n",
        "    return 0\n",
        "  ans1 = sys.maxsize\n",
        "  if n % 3 == 0:\n",
        "    if dp[n//3] == -1:\n",
        "      ans1 = minStepsTo1(n//3,dp)\n",
        "      dp[n//3] = ans1\n",
        "    else:\n",
        "      ans1 = dp[n//3]\n",
        "  \n",
        "  ans2 = sys.maxsize\n",
        "  if n % 2 == 0:\n",
        "    if dp[n//2] == -1:\n",
        "      ans2 = minStepsTo1(n//2,dp)\n",
        "      dp[n//2] = ans2\n",
        "    else:\n",
        "      ans2 = dp[n//2]\n",
        "\n",
        "  if dp[n-1] == -1:\n",
        "    ans3 = minStepsTo1(n-1,dp)\n",
        "    dp[n-1] = ans3\n",
        "  else:\n",
        "    ans3 = dp[n-3]\n",
        "\n",
        "  MyAns = 1 + min(ans1, ans2, ans3)\n",
        "  return MyAns"
      ]
    },
    {
      "cell_type": "code",
      "source": [
        "n = int(input())\n",
        "dp = [-1 for i in range(n+1)]\n",
        "MyOut = minStepsTo1(n,dp)\n",
        "print(MyOut)"
      ],
      "metadata": {
        "colab": {
          "base_uri": "https://localhost:8080/"
        },
        "id": "0oCV9ppaNcmK",
        "outputId": "d7838c1a-e907-40d1-cc17-e31b2a85d17a"
      },
      "execution_count": 10,
      "outputs": [
        {
          "output_type": "stream",
          "name": "stdout",
          "text": [
            "7\n",
            "2\n"
          ]
        }
      ]
    },
    {
      "cell_type": "code",
      "source": [
        "n = int(input())\n",
        "dp = [-1 for i in range(n+1)]\n",
        "MyOut = minStepsTo1(n,dp)\n",
        "print(MyOut)"
      ],
      "metadata": {
        "colab": {
          "base_uri": "https://localhost:8080/"
        },
        "id": "tyhHi7HaOe3P",
        "outputId": "61da2cc1-3935-4ea3-a629-0c5e37865b81"
      },
      "execution_count": 6,
      "outputs": [
        {
          "output_type": "stream",
          "name": "stdout",
          "text": [
            "21\n",
            "3\n"
          ]
        }
      ]
    }
  ]
}