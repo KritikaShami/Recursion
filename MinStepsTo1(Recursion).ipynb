{
  "nbformat": 4,
  "nbformat_minor": 0,
  "metadata": {
    "colab": {
      "name": "MinStepsTo1(Recursion).ipynb",
      "provenance": []
    },
    "kernelspec": {
      "name": "python3",
      "display_name": "Python 3"
    },
    "language_info": {
      "name": "python"
    }
  },
  "cells": [
    {
      "cell_type": "markdown",
      "source": [
        "**Input= 7** <br>\n",
        "**Output= 3** <br><br>\n",
        "**Explanation...** <br>\n",
        "For n = 7\n",
        "Step 1 :  n = 7 ­- 1 = 6 <br>\n",
        "Step 2 : n = 6  / 3 = 2 <br>\n",
        "Step 3 : n = 2 / 2 = 1"
      ],
      "metadata": {
        "id": "oE5Mc0O0HNOa"
      }
    },
    {
      "cell_type": "markdown",
      "source": [
        "# <center><b>Basic Recursion Solution<center>"
      ],
      "metadata": {
        "id": "NljK4JNdJr9R"
      }
    },
    {
      "cell_type": "code",
      "execution_count": 3,
      "metadata": {
        "id": "k0OK9rUTHFSU"
      },
      "outputs": [],
      "source": [
        "import sys\n",
        "def minStepsTo1(n):\n",
        "  if n == 1:\n",
        "    return 0\n",
        "  ans1 = sys.maxsize\n",
        "  if n % 3 == 0:\n",
        "    ans1 = minStepsTo1(n//3)\n",
        "  \n",
        "  ans2 = sys.maxsize\n",
        "  if n % 2 == 0:\n",
        "    ans2 = minStepsTo1(n//2)\n",
        "\n",
        "  ans3 = minStepsTo1(n-1)\n",
        "\n",
        "  MyAns = 1 + min(ans1, ans2, ans3)\n",
        "  return MyAns"
      ]
    },
    {
      "cell_type": "code",
      "source": [
        "n = int(input())\n",
        "MyOut = minStepsTo1(n)\n",
        "print(MyOut)"
      ],
      "metadata": {
        "colab": {
          "base_uri": "https://localhost:8080/"
        },
        "id": "4NdRZDJwJRfG",
        "outputId": "61fe987b-74f5-491a-a9bb-b23ba352b0d9"
      },
      "execution_count": 4,
      "outputs": [
        {
          "output_type": "stream",
          "name": "stdout",
          "text": [
            "7\n",
            "3\n"
          ]
        }
      ]
    }
  ]
}